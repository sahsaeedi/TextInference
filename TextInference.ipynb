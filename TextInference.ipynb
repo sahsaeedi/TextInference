{
  "nbformat": 4,
  "nbformat_minor": 0,
  "metadata": {
    "kernelspec": {
      "display_name": "Python 3",
      "language": "python",
      "name": "python3"
    },
    "language_info": {
      "codemirror_mode": {
        "name": "ipython",
        "version": 3
      },
      "file_extension": ".py",
      "mimetype": "text/x-python",
      "name": "python",
      "nbconvert_exporter": "python",
      "pygments_lexer": "ipython3",
      "version": "3.6.3"
    },
    "colab": {
      "name": "HW5-final.ipynb",
      "provenance": [],
      "collapsed_sections": [],
      "toc_visible": true
    }
  },
  "cells": [
    {
      "cell_type": "code",
      "metadata": {
        "id": "YVG26cF07cy4",
        "colab_type": "code",
        "colab": {}
      },
      "source": [
        "import os\n"
      ],
      "execution_count": 1,
      "outputs": []
    },
    {
      "cell_type": "code",
      "metadata": {
        "id": "oAxleJ107q-b",
        "colab_type": "code",
        "colab": {
          "base_uri": "https://localhost:8080/",
          "height": 128
        },
        "outputId": "1be760aa-a9aa-4e93-9763-d26ce16bb23c"
      },
      "source": [
        "from google.colab import drive\n",
        "drive.mount('/content/drive')"
      ],
      "execution_count": 2,
      "outputs": [
        {
          "output_type": "stream",
          "text": [
            "Go to this URL in a browser: https://accounts.google.com/o/oauth2/auth?client_id=947318989803-6bn6qk8qdgf4n4g3pfee6491hc0brc4i.apps.googleusercontent.com&redirect_uri=urn%3aietf%3awg%3aoauth%3a2.0%3aoob&response_type=code&scope=email%20https%3a%2f%2fwww.googleapis.com%2fauth%2fdocs.test%20https%3a%2f%2fwww.googleapis.com%2fauth%2fdrive%20https%3a%2f%2fwww.googleapis.com%2fauth%2fdrive.photos.readonly%20https%3a%2f%2fwww.googleapis.com%2fauth%2fpeopleapi.readonly\n",
            "\n",
            "Enter your authorization code:\n",
            "··········\n",
            "Mounted at /content/drive\n"
          ],
          "name": "stdout"
        }
      ]
    },
    {
      "cell_type": "code",
      "metadata": {
        "id": "r-gkczby77Gc",
        "colab_type": "code",
        "colab": {}
      },
      "source": [
        "os.chdir(r\"/content/drive/My Drive/NN98/HW5\")"
      ],
      "execution_count": 2,
      "outputs": []
    },
    {
      "cell_type": "code",
      "metadata": {
        "id": "evvRK-MB7czP",
        "colab_type": "code",
        "colab": {
          "base_uri": "https://localhost:8080/",
          "height": 171
        },
        "outputId": "723d568e-51af-46a1-c5fd-5987a7aae0c8"
      },
      "source": [
        "#delete directory logs and image model\n",
        "!rm -rf \"/content/drive/My Drive/NN98/HW5/logs\"\n",
        "!rm -rf \"/content/drive/My Drive/NN98/HW5/model.png\"\n",
        "\n",
        "os.mkdir(\"./logs\")"
      ],
      "execution_count": 3,
      "outputs": [
        {
          "output_type": "error",
          "ename": "FileNotFoundError",
          "evalue": "ignored",
          "traceback": [
            "\u001b[0;31m---------------------------------------------------------------------------\u001b[0m",
            "\u001b[0;31mFileNotFoundError\u001b[0m                         Traceback (most recent call last)",
            "\u001b[0;32m<ipython-input-3-35e526d1f4e5>\u001b[0m in \u001b[0;36m<module>\u001b[0;34m()\u001b[0m\n\u001b[0;32m----> 1\u001b[0;31m \u001b[0mos\u001b[0m\u001b[0;34m.\u001b[0m\u001b[0mchdir\u001b[0m\u001b[0;34m(\u001b[0m\u001b[0;34mr\"D:\\uni\\neural network\\homework\\HW5\\snli_1.0\\snli_1.0\"\u001b[0m\u001b[0;34m)\u001b[0m\u001b[0;34m\u001b[0m\u001b[0;34m\u001b[0m\u001b[0m\n\u001b[0m",
            "\u001b[0;31mFileNotFoundError\u001b[0m: [Errno 2] No such file or directory: 'D:\\\\uni\\\\neural network\\\\homework\\\\HW5\\\\snli_1.0\\\\snli_1.0'"
          ]
        }
      ]
    },
    {
      "cell_type": "code",
      "metadata": {
        "id": "1VfBC54T7czs",
        "colab_type": "code",
        "colab": {
          "base_uri": "https://localhost:8080/",
          "height": 199
        },
        "outputId": "0d3e66ab-921f-4aa0-e6d6-d422bbc11275"
      },
      "source": [
        "os.listdir()"
      ],
      "execution_count": 3,
      "outputs": [
        {
          "output_type": "execute_result",
          "data": {
            "text/plain": [
              "['snli_1.0',\n",
              " '__MACOSX',\n",
              " 'snli_1.0.zip',\n",
              " 'acc.pkl',\n",
              " 'val_acc.pkl',\n",
              " 'model1.h5',\n",
              " 'logs',\n",
              " 'loss.pkl',\n",
              " 'val_loss.pkl',\n",
              " 'model2.h5']"
            ]
          },
          "metadata": {
            "tags": []
          },
          "execution_count": 3
        }
      ]
    },
    {
      "cell_type": "code",
      "metadata": {
        "id": "uNCJaALj7cz_",
        "colab_type": "code",
        "colab": {}
      },
      "source": [
        "import pandas as pd"
      ],
      "execution_count": 4,
      "outputs": []
    },
    {
      "cell_type": "code",
      "metadata": {
        "id": "he1qRoAP7c0N",
        "colab_type": "code",
        "colab": {}
      },
      "source": [
        "train_data = pd.read_csv(\"./snli_1.0/snli_1.0_train.txt\", delimiter=\"\\t\")"
      ],
      "execution_count": 5,
      "outputs": []
    },
    {
      "cell_type": "code",
      "metadata": {
        "id": "K51yLLNe7c0l",
        "colab_type": "code",
        "colab": {}
      },
      "source": [
        "#train_data"
      ],
      "execution_count": 6,
      "outputs": []
    },
    {
      "cell_type": "code",
      "metadata": {
        "id": "QiOWzVbk7c08",
        "colab_type": "code",
        "colab": {}
      },
      "source": [
        "test_data = pd.read_csv(\"./snli_1.0/snli_1.0_test.txt\", delimiter=\"\\t\")\n",
        "validation_data = pd.read_csv(\"./snli_1.0/snli_1.0_dev.txt\", delimiter=\"\\t\")"
      ],
      "execution_count": 7,
      "outputs": []
    },
    {
      "cell_type": "code",
      "metadata": {
        "id": "P5yJE61I7c1V",
        "colab_type": "code",
        "colab": {
          "base_uri": "https://localhost:8080/",
          "height": 35
        },
        "outputId": "3378dcb6-2301-4c6d-f22f-46feb03300d1"
      },
      "source": [
        "print(\"train shape : \", train_data.shape, \"test shape : \", test_data.shape, \"validation shape : \", validation_data.shape)"
      ],
      "execution_count": 8,
      "outputs": [
        {
          "output_type": "stream",
          "text": [
            "train shape :  (550152, 14) test shape :  (10000, 14) validation shape :  (10000, 14)\n"
          ],
          "name": "stdout"
        }
      ]
    },
    {
      "cell_type": "code",
      "metadata": {
        "id": "u1D_jdQ-7c1m",
        "colab_type": "code",
        "colab": {
          "base_uri": "https://localhost:8080/",
          "height": 35
        },
        "outputId": "3cd67940-5086-46ec-d949-0a452732755c"
      },
      "source": [
        "total_sentences = train_data.shape[0] + test_data.shape[0] + validation_data.shape[0]\n",
        "print(\"total senteces : \", total_sentences)"
      ],
      "execution_count": 9,
      "outputs": [
        {
          "output_type": "stream",
          "text": [
            "total senteces :  570152\n"
          ],
          "name": "stdout"
        }
      ]
    },
    {
      "cell_type": "code",
      "metadata": {
        "id": "S-3MHCF77c18",
        "colab_type": "code",
        "colab": {}
      },
      "source": [
        "import numpy as np"
      ],
      "execution_count": 10,
      "outputs": []
    },
    {
      "cell_type": "code",
      "metadata": {
        "id": "hNDYOeDx7c2a",
        "colab_type": "code",
        "colab": {}
      },
      "source": [
        "train_df = train_data.loc[train_data[\"gold_label\"] == \"entailment\"]"
      ],
      "execution_count": 11,
      "outputs": []
    },
    {
      "cell_type": "code",
      "metadata": {
        "id": "aYbX4Vhr7c21",
        "colab_type": "code",
        "colab": {}
      },
      "source": [
        "test_df = test_data.loc[test_data[\"gold_label\"] == \"entailment\"]"
      ],
      "execution_count": 12,
      "outputs": []
    },
    {
      "cell_type": "code",
      "metadata": {
        "id": "-QYmV-I47c3K",
        "colab_type": "code",
        "colab": {}
      },
      "source": [
        "validation_df = validation_data.loc[validation_data[\"gold_label\"] == \"entailment\"]"
      ],
      "execution_count": 13,
      "outputs": []
    },
    {
      "cell_type": "code",
      "metadata": {
        "id": "64u7Tzyo7c3Y",
        "colab_type": "code",
        "colab": {
          "base_uri": "https://localhost:8080/",
          "height": 35
        },
        "outputId": "b1c8f870-8de0-455e-847d-d48999f74eb2"
      },
      "source": [
        "print(\"train shape : \", train_df.shape, \"test shape : \", test_df.shape, \"validation shape : \", validation_df.shape)"
      ],
      "execution_count": 14,
      "outputs": [
        {
          "output_type": "stream",
          "text": [
            "train shape :  (183416, 14) test shape :  (3368, 14) validation shape :  (3329, 14)\n"
          ],
          "name": "stdout"
        }
      ]
    },
    {
      "cell_type": "code",
      "metadata": {
        "id": "RDVBx80D7c3l",
        "colab_type": "code",
        "colab": {}
      },
      "source": [
        "#train_df"
      ],
      "execution_count": 15,
      "outputs": []
    },
    {
      "cell_type": "code",
      "metadata": {
        "id": "Fft84JPg7c3v",
        "colab_type": "code",
        "colab": {}
      },
      "source": [
        "train_df = train_df[train_df[\"sentence2\"].notnull()]"
      ],
      "execution_count": 16,
      "outputs": []
    },
    {
      "cell_type": "code",
      "metadata": {
        "id": "JsLV4lbt7c39",
        "colab_type": "code",
        "colab": {
          "base_uri": "https://localhost:8080/",
          "height": 35
        },
        "outputId": "d53110fe-a95a-4bc9-9967-eedb09e7ee6a"
      },
      "source": [
        "Xtrain = np.array(train_df[\"sentence1\"])\n",
        "Ytrain = np.array(train_df[\"sentence2\"])\n",
        "print(\"X train shape : \", Xtrain.shape, \"Y train shape : \", Ytrain.shape)"
      ],
      "execution_count": 17,
      "outputs": [
        {
          "output_type": "stream",
          "text": [
            "X train shape :  (183414,) Y train shape :  (183414,)\n"
          ],
          "name": "stdout"
        }
      ]
    },
    {
      "cell_type": "code",
      "metadata": {
        "id": "nemGflJv7c4I",
        "colab_type": "code",
        "colab": {}
      },
      "source": [
        "dicts = {}\n",
        "for i,sentece in enumerate(Ytrain):\n",
        "    dicts[i] = [int(st) for st in Ytrain[i].split() if st.isdigit()]"
      ],
      "execution_count": 18,
      "outputs": []
    },
    {
      "cell_type": "code",
      "metadata": {
        "id": "W0jWzOtw7c4P",
        "colab_type": "code",
        "colab": {}
      },
      "source": [
        ""
      ],
      "execution_count": 18,
      "outputs": []
    },
    {
      "cell_type": "code",
      "metadata": {
        "id": "L3Yx50t_7c4a",
        "colab_type": "code",
        "colab": {}
      },
      "source": [
        "import unicodedata\n",
        "import re"
      ],
      "execution_count": 19,
      "outputs": []
    },
    {
      "cell_type": "code",
      "metadata": {
        "id": "pGvv6jcC7c4j",
        "colab_type": "code",
        "colab": {}
      },
      "source": [
        "# Converts the unicode file to ascii\n",
        "def unicode_to_ascii(s):\n",
        "    return ''.join(c for c in unicodedata.normalize('NFD', s)\n",
        "      if unicodedata.category(c) != 'Mn')\n"
      ],
      "execution_count": 20,
      "outputs": []
    },
    {
      "cell_type": "code",
      "metadata": {
        "id": "PrdgnFb17c4x",
        "colab_type": "code",
        "colab": {}
      },
      "source": [
        "def preproces_sentences(text):\n",
        "    text = text.lower().strip()\n",
        "    #text = '<start> ' + text + ' <end>'\n",
        "    return text                     \n"
      ],
      "execution_count": 21,
      "outputs": []
    },
    {
      "cell_type": "code",
      "metadata": {
        "id": "k3RoV2i77c48",
        "colab_type": "code",
        "colab": {
          "base_uri": "https://localhost:8080/",
          "height": 53
        },
        "outputId": "123696c0-ff56-4cbf-c146-df17df85e0db"
      },
      "source": [
        "test_X_train = preproces_sentences(Xtrain[0])\n",
        "test_Y_train = preproces_sentences(Ytrain[0])\n",
        "print(test_X_train)\n",
        "print(test_Y_train)"
      ],
      "execution_count": 22,
      "outputs": [
        {
          "output_type": "stream",
          "text": [
            "a person on a horse jumps over a broken down airplane.\n",
            "a person is outdoors, on a horse.\n"
          ],
          "name": "stdout"
        }
      ]
    },
    {
      "cell_type": "code",
      "metadata": {
        "id": "rWkuHEQ67c5P",
        "colab_type": "code",
        "colab": {}
      },
      "source": [
        "def unicode_to_ascii(s):\n",
        "    return ''.join(\n",
        "        c for c in unicodedata.normalize('NFD', s)\n",
        "        if unicodedata.category(c) != 'Mn')\n",
        "\n",
        "\n",
        "def normalize_string(s):\n",
        "    s = unicode_to_ascii(s)\n",
        "    s = re.sub(r'([!.?])', r' \\1', s)\n",
        "    s = re.sub(r'[^a-zA-Z.!?]+', r' ', s)\n",
        "    s = re.sub(r'\\s+', r' ', s)\n",
        "    return s"
      ],
      "execution_count": 23,
      "outputs": []
    },
    {
      "cell_type": "code",
      "metadata": {
        "id": "Afma41IZ7c5a",
        "colab_type": "code",
        "colab": {
          "base_uri": "https://localhost:8080/",
          "height": 53
        },
        "outputId": "da744ee6-0eaa-4dab-cf39-959399fa3b24"
      },
      "source": [
        "s = normalize_string(Xtrain[0])\n",
        "s, Xtrain[0]"
      ],
      "execution_count": 24,
      "outputs": [
        {
          "output_type": "execute_result",
          "data": {
            "text/plain": [
              "('A person on a horse jumps over a broken down airplane .',\n",
              " 'A person on a horse jumps over a broken down airplane.')"
            ]
          },
          "metadata": {
            "tags": []
          },
          "execution_count": 24
        }
      ]
    },
    {
      "cell_type": "code",
      "metadata": {
        "id": "1m3u9rAe7c5i",
        "colab_type": "code",
        "colab": {}
      },
      "source": [
        "def create_dataset(Xtrain, Ytrain):\n",
        "    X_train = [normalize_string(Xtrain[i]) for i in range(Xtrain.shape[0])]\n",
        "    Y_train_in = ['<start> ' + normalize_string(Ytrain[i]) for i in range(Ytrain.shape[0])]\n",
        "    Y_train_out = [normalize_string(Ytrain[i]) + ' <end>' for i in range(Ytrain.shape[0])]\n",
        "    return X_train, Y_train_in, Y_train_out"
      ],
      "execution_count": 25,
      "outputs": []
    },
    {
      "cell_type": "code",
      "metadata": {
        "id": "dwOBso7m7c5r",
        "colab_type": "code",
        "colab": {
          "base_uri": "https://localhost:8080/",
          "height": 35
        },
        "outputId": "f7ec8316-b0fb-4bc8-f242-3943f2fdd3de"
      },
      "source": [
        "X_train, Y_train_in, Y_train_out = create_dataset(Xtrain, Ytrain)\n",
        "print(\"X train shape : \", len(X_train), \"Y train in  shape : \", len(Y_train_in), \"Y train out shape : \", len(Y_train_out))"
      ],
      "execution_count": 26,
      "outputs": [
        {
          "output_type": "stream",
          "text": [
            "X train shape :  183414 Y train in  shape :  183414 Y train out shape :  183414\n"
          ],
          "name": "stdout"
        }
      ]
    },
    {
      "cell_type": "code",
      "metadata": {
        "id": "6YqG5LSG7c50",
        "colab_type": "code",
        "colab": {}
      },
      "source": [
        "def tokenize(sentences):\n",
        "    tokenizer = tf.keras.preprocessing.text.Tokenizer(filters='')\n",
        "    tokenizer.fit_on_texts(sentences)\n",
        "    tensor = tokenizer.texts_to_sequences(sentences)\n",
        "    tensor = tf.keras.preprocessing.sequence.pad_sequences(tensor, padding='post')\n",
        "\n",
        "    return tensor, tokenizer"
      ],
      "execution_count": 27,
      "outputs": []
    },
    {
      "cell_type": "code",
      "metadata": {
        "id": "_YCf9Sal7c59",
        "colab_type": "code",
        "colab": {}
      },
      "source": [
        "import tensorflow as tf"
      ],
      "execution_count": 28,
      "outputs": []
    },
    {
      "cell_type": "code",
      "metadata": {
        "id": "xwlHriAa7c6F",
        "colab_type": "code",
        "colab": {}
      },
      "source": [
        "tokenizer_X_train = tf.keras.preprocessing.text.Tokenizer(filters='')\n",
        "tokenizer_X_train.fit_on_texts(X_train)\n",
        "tensor_X_train = tokenizer_X_train.texts_to_sequences(X_train)\n",
        "tensor_X_train = tf.keras.preprocessing.sequence.pad_sequences(tensor_X_train, padding='post')\n",
        "\n",
        "tokenizer_Y_train = tf.keras.preprocessing.text.Tokenizer(filters='')\n",
        "\n",
        "tokenizer_Y_train.fit_on_texts(Y_train_in)\n",
        "tokenizer_Y_train.fit_on_texts(Y_train_out)\n",
        "\n",
        "tensor_Y_train_in = tokenizer_Y_train.texts_to_sequences(Y_train_in)\n",
        "tensor_Y_train_in = tf.keras.preprocessing.sequence.pad_sequences(tensor_Y_train_in, padding='post')\n",
        "\n",
        "tensor_Y_train_out = tokenizer_Y_train.texts_to_sequences(Y_train_out)\n",
        "tensor_Y_train_out = tf.keras.preprocessing.sequence.pad_sequences(tensor_Y_train_out, padding='post')\n"
      ],
      "execution_count": 29,
      "outputs": []
    },
    {
      "cell_type": "code",
      "metadata": {
        "id": "jvAerC277c6N",
        "colab_type": "code",
        "colab": {}
      },
      "source": [
        "max_length_X, max_length_Y_in, max_length_Y_out = tensor_X_train.shape[1], tensor_Y_train_in.shape[1], tensor_Y_train_out.shape[1]\n"
      ],
      "execution_count": 30,
      "outputs": []
    },
    {
      "cell_type": "code",
      "metadata": {
        "id": "ilkeAysQ7c6T",
        "colab_type": "code",
        "colab": {
          "base_uri": "https://localhost:8080/",
          "height": 35
        },
        "outputId": "f0a9d33d-992f-4865-ae3a-e76cb33f7ab2"
      },
      "source": [
        "print(max_length_X, max_length_Y_in, max_length_Y_out)"
      ],
      "execution_count": 31,
      "outputs": [
        {
          "output_type": "stream",
          "text": [
            "79 44 44\n"
          ],
          "name": "stdout"
        }
      ]
    },
    {
      "cell_type": "code",
      "metadata": {
        "id": "LCbfVyEr7c6X",
        "colab_type": "code",
        "colab": {}
      },
      "source": [
        "from sklearn.model_selection import train_test_split"
      ],
      "execution_count": 32,
      "outputs": []
    },
    {
      "cell_type": "code",
      "metadata": {
        "id": "ivaHLnLa7c6i",
        "colab_type": "code",
        "colab": {}
      },
      "source": [
        "#x_train, x_test, y_train, y_test = train_test_split(tensor_X_train, tensor_Y_train, test_size = 0.2)\n",
        "x_train = tensor_X_train[:500, :]\n",
        "y_train_in = tensor_Y_train_in[:500, :]\n",
        "y_train_out = tensor_Y_train_out[:500, :]"
      ],
      "execution_count": 33,
      "outputs": []
    },
    {
      "cell_type": "code",
      "metadata": {
        "id": "4dI0yNle7c6n",
        "colab_type": "code",
        "colab": {
          "base_uri": "https://localhost:8080/",
          "height": 35
        },
        "outputId": "196b1621-52bc-40ac-df73-b17bb425ea86"
      },
      "source": [
        "print(len(x_train), len(y_train_in), len(y_train_out))#, len(x_test), len(y_test))"
      ],
      "execution_count": 34,
      "outputs": [
        {
          "output_type": "stream",
          "text": [
            "500 500 500\n"
          ],
          "name": "stdout"
        }
      ]
    },
    {
      "cell_type": "code",
      "metadata": {
        "id": "vOb-BJGW7c6y",
        "colab_type": "code",
        "colab": {}
      },
      "source": [
        "dataset = tf.data.Dataset.from_tensor_slices(\n",
        "    (x_train, y_train_in, y_train_out))\n",
        "dataset = dataset.shuffle(20).batch(5)"
      ],
      "execution_count": 35,
      "outputs": []
    },
    {
      "cell_type": "markdown",
      "metadata": {
        "id": "Frs9Rj6O7c62",
        "colab_type": "text"
      },
      "source": [
        "# without attention"
      ]
    },
    {
      "cell_type": "code",
      "metadata": {
        "id": "4ppOKuhO7c63",
        "colab_type": "code",
        "colab": {}
      },
      "source": [
        "class Encoder(tf.keras.Model):\n",
        "    def __init__(self, vocab_size, embedding_size, lstm_size):\n",
        "        super(Encoder, self).__init__()\n",
        "        self.lstm_size = lstm_size\n",
        "        self.embedding = tf.keras.layers.Embedding(vocab_size, embedding_size)\n",
        "        self.lstm = tf.keras.layers.LSTM(\n",
        "            lstm_size, return_sequences=True, return_state=True)\n",
        "\n",
        "    def call(self, sequence, states):\n",
        "        embed = self.embedding(sequence)\n",
        "        output, state_h, state_c = self.lstm(embed, initial_state=states)\n",
        "\n",
        "        return output, state_h, state_c\n",
        "\n",
        "    def init_states(self, batch_size):\n",
        "        return (tf.zeros([batch_size, self.lstm_size]),\n",
        "                tf.zeros([batch_size, self.lstm_size]))"
      ],
      "execution_count": 36,
      "outputs": []
    },
    {
      "cell_type": "code",
      "metadata": {
        "id": "2qElvTSp7c7A",
        "colab_type": "code",
        "colab": {}
      },
      "source": [
        "class Decoder(tf.keras.Model):\n",
        "    def __init__(self, vocab_size, embedding_size, lstm_size):\n",
        "        super(Decoder, self).__init__()\n",
        "        self.lstm_size = lstm_size\n",
        "        self.embedding = tf.keras.layers.Embedding(vocab_size, embedding_size)\n",
        "        self.lstm = tf.keras.layers.LSTM(\n",
        "            lstm_size, return_sequences=True, return_state=True)\n",
        "        self.dense = tf.keras.layers.Dense(vocab_size)\n",
        "\n",
        "    def call(self, sequence, state):\n",
        "        embed = self.embedding(sequence)\n",
        "        lstm_out, state_h, state_c = self.lstm(embed, state)\n",
        "        logits = self.dense(lstm_out)\n",
        "\n",
        "        return logits, state_h, state_c"
      ],
      "execution_count": 74,
      "outputs": []
    },
    {
      "cell_type": "code",
      "metadata": {
        "id": "MirwBAMA7c7O",
        "colab_type": "code",
        "colab": {}
      },
      "source": [
        "EMBEDDING_SIZE = 32\n",
        "LSTM_SIZE = 64\n",
        "vocab_X_size = len(tokenizer_X_train.word_index)+1\n",
        "vocab_Y_size = len(tokenizer_Y_train.word_index)+1 "
      ],
      "execution_count": 44,
      "outputs": []
    },
    {
      "cell_type": "code",
      "metadata": {
        "id": "7omZmes07c7S",
        "colab_type": "code",
        "colab": {}
      },
      "source": [
        "encoder = Encoder(vocab_X_size, EMBEDDING_SIZE, LSTM_SIZE)"
      ],
      "execution_count": 76,
      "outputs": []
    },
    {
      "cell_type": "code",
      "metadata": {
        "id": "FWVFTbKU7c7f",
        "colab_type": "code",
        "colab": {}
      },
      "source": [
        "decoder = Decoder(vocab_Y_size, EMBEDDING_SIZE, LSTM_SIZE)"
      ],
      "execution_count": 77,
      "outputs": []
    },
    {
      "cell_type": "code",
      "metadata": {
        "id": "Nc5Xgnt97c7i",
        "colab_type": "code",
        "colab": {}
      },
      "source": [
        "def loss_func(targets, logits):\n",
        "    crossentropy = tf.keras.losses.SparseCategoricalCrossentropy(\n",
        "        from_logits=True)\n",
        "    mask = tf.math.logical_not(tf.math.equal(targets, 0))\n",
        "    mask = tf.cast(mask, dtype=tf.int64)\n",
        "    loss = crossentropy(targets, logits, sample_weight=mask)\n",
        "\n",
        "    return loss"
      ],
      "execution_count": 78,
      "outputs": []
    },
    {
      "cell_type": "code",
      "metadata": {
        "id": "FVA7vnNQ7c7o",
        "colab_type": "code",
        "colab": {}
      },
      "source": [
        "optimizer = tf.keras.optimizers.Adam()"
      ],
      "execution_count": 79,
      "outputs": []
    },
    {
      "cell_type": "code",
      "metadata": {
        "id": "SqSQoG7A7c7x",
        "colab_type": "code",
        "colab": {}
      },
      "source": [
        "@tf.function\n",
        "def train_step(source_seq, target_seq_in, target_seq_out, en_initial_states):\n",
        "    with tf.GradientTape() as tape:\n",
        "        en_outputs = encoder(source_seq, en_initial_states)\n",
        "        en_states = en_outputs[1:]\n",
        "        de_states = en_states\n",
        "\n",
        "        de_outputs = decoder(target_seq_in, de_states)\n",
        "        logits = de_outputs[0]\n",
        "        loss = loss_func(target_seq_out, logits)\n",
        "\n",
        "    variables = encoder.trainable_variables + decoder.trainable_variables\n",
        "    gradients = tape.gradient(loss, variables)\n",
        "    optimizer.apply_gradients(zip(gradients, variables))\n",
        "\n",
        "    return loss"
      ],
      "execution_count": 80,
      "outputs": []
    },
    {
      "cell_type": "code",
      "metadata": {
        "id": "iRb6MyfZ7c70",
        "colab_type": "code",
        "colab": {}
      },
      "source": [
        "test_df = test_df[test_df[\"sentence2\"].notnull()]\n",
        "X_test = np.array(test_df[\"sentence1\"])\n",
        "Y_test = np.array(test_df[\"sentence2\"])"
      ],
      "execution_count": 81,
      "outputs": []
    },
    {
      "cell_type": "code",
      "metadata": {
        "id": "SQJOfMrU7c78",
        "colab_type": "code",
        "colab": {}
      },
      "source": [
        "def predict(test_source_text=None):\n",
        "    #if test_source_text is None:\n",
        "        #test_source_text = raw_data_en[np.random.choice(len(raw_data_en))]\n",
        "    print(test_source_text)\n",
        "    test_source_seq = tokenizer_X_train.texts_to_sequences([test_source_text])\n",
        "    print(test_source_seq)\n",
        "\n",
        "    initial_states = encoder.init_states(1)\n",
        "    en_outputs = encoder(tf.constant(test_source_seq), initial_states)\n",
        "\n",
        "    de_input = tf.constant([[tokenizer_Y_train.word_index['<start>']]])\n",
        "    de_state_h, de_state_c = en_outputs[1:]\n",
        "    out_words = []\n",
        "    #alignments = []\n",
        "\n",
        "    while True:\n",
        "        de_output, de_state_h, de_state_c = decoder(\n",
        "            de_input, (de_state_h, de_state_c))\n",
        "        de_input = tf.argmax(de_output, -1)\n",
        "        out_words.append(tokenizer_Y_train.index_word[de_input.numpy()[0][0]])\n",
        "        \n",
        "        #alignments.append(alignment.numpy())\n",
        "\n",
        "        if out_words[-1] == '<end>' or len(out_words) >= 20:\n",
        "            break\n",
        "\n",
        "    print(' '.join(out_words))"
      ],
      "execution_count": 89,
      "outputs": []
    },
    {
      "cell_type": "code",
      "metadata": {
        "id": "inaieXS69_8i",
        "colab_type": "code",
        "colab": {}
      },
      "source": [
        "checkpoint_dir = './training_checkpoints'\n",
        "checkpoint_prefix = os.path.join(checkpoint_dir, \"ckpt\")\n",
        "checkpoint = tf.train.Checkpoint(optimizer=optimizer,\n",
        "                                 encoder=encoder,\n",
        "                                 decoder=decoder)"
      ],
      "execution_count": 83,
      "outputs": []
    },
    {
      "cell_type": "code",
      "metadata": {
        "id": "c2QqJHlf7c8D",
        "colab_type": "code",
        "colab": {
          "base_uri": "https://localhost:8080/",
          "height": 1000
        },
        "outputId": "640b2a95-f65f-4cbf-a84d-ada39da3e510"
      },
      "source": [
        "NUM_EPOCHS = 100\n",
        "BATCH_SIZE = 5\n",
        "losse = []\n",
        "for e in range(NUM_EPOCHS):\n",
        "    en_initial_states = encoder.init_states(BATCH_SIZE)\n",
        "\n",
        "    for batch, (source_seq, target_seq_in, target_seq_out) in enumerate(dataset.take(-1)):\n",
        "        loss = train_step(source_seq, target_seq_in,\n",
        "                          target_seq_out, en_initial_states)\n",
        "    if (e + 1) % 50 == 0:\n",
        "      checkpoint.save(file_prefix = checkpoint_prefix)\n",
        "    loss_epoch = loss.numpy()\n",
        "    print('Epoch {} Loss {:.4f}'.format(e + 1, loss_epoch))\n",
        "    losse.append(loss_epoch)\n",
        "    "
      ],
      "execution_count": 84,
      "outputs": [
        {
          "output_type": "stream",
          "text": [
            "Epoch 1 Loss 1.1318\n",
            "Epoch 2 Loss 0.6371\n",
            "Epoch 3 Loss 0.7467\n",
            "Epoch 4 Loss 0.6483\n",
            "Epoch 5 Loss 0.5987\n",
            "Epoch 6 Loss 0.5393\n",
            "Epoch 7 Loss 0.7443\n",
            "Epoch 8 Loss 0.6564\n",
            "Epoch 9 Loss 0.7049\n",
            "Epoch 10 Loss 0.5590\n",
            "Epoch 11 Loss 0.6400\n",
            "Epoch 12 Loss 0.6294\n",
            "Epoch 13 Loss 0.7705\n",
            "Epoch 14 Loss 0.6834\n",
            "Epoch 15 Loss 0.7115\n",
            "Epoch 16 Loss 0.7399\n",
            "Epoch 17 Loss 0.5084\n",
            "Epoch 18 Loss 0.6265\n",
            "Epoch 19 Loss 0.5040\n",
            "Epoch 20 Loss 0.6749\n",
            "Epoch 21 Loss 0.6144\n",
            "Epoch 22 Loss 0.5198\n",
            "Epoch 23 Loss 0.5493\n",
            "Epoch 24 Loss 0.6897\n",
            "Epoch 25 Loss 0.5064\n",
            "Epoch 26 Loss 0.5924\n",
            "Epoch 27 Loss 0.6291\n",
            "Epoch 28 Loss 0.6860\n",
            "Epoch 29 Loss 0.4715\n",
            "Epoch 30 Loss 0.4372\n",
            "Epoch 31 Loss 0.4412\n",
            "Epoch 32 Loss 0.4940\n",
            "Epoch 33 Loss 0.6169\n",
            "Epoch 34 Loss 0.6199\n",
            "Epoch 35 Loss 0.6400\n",
            "Epoch 36 Loss 0.4601\n",
            "Epoch 37 Loss 0.4373\n",
            "Epoch 38 Loss 0.7954\n",
            "Epoch 39 Loss 0.4034\n",
            "Epoch 40 Loss 0.3806\n",
            "Epoch 41 Loss 0.4448\n",
            "Epoch 42 Loss 0.4768\n",
            "Epoch 43 Loss 0.4306\n",
            "Epoch 44 Loss 0.3553\n",
            "Epoch 45 Loss 0.4475\n",
            "Epoch 46 Loss 0.5543\n",
            "Epoch 47 Loss 0.5887\n",
            "Epoch 48 Loss 0.4480\n",
            "Epoch 49 Loss 0.4553\n",
            "Epoch 50 Loss 0.5938\n",
            "Epoch 51 Loss 0.2461\n",
            "Epoch 52 Loss 0.4633\n",
            "Epoch 53 Loss 0.3266\n",
            "Epoch 54 Loss 0.3900\n",
            "Epoch 55 Loss 0.3741\n",
            "Epoch 56 Loss 0.3402\n",
            "Epoch 57 Loss 0.4088\n",
            "Epoch 58 Loss 0.4239\n",
            "Epoch 59 Loss 0.3544\n",
            "Epoch 60 Loss 0.5667\n",
            "Epoch 61 Loss 0.4023\n",
            "Epoch 62 Loss 0.3995\n",
            "Epoch 63 Loss 0.5118\n",
            "Epoch 64 Loss 0.3827\n",
            "Epoch 65 Loss 0.4233\n",
            "Epoch 66 Loss 0.4008\n",
            "Epoch 67 Loss 0.2714\n",
            "Epoch 68 Loss 0.4707\n",
            "Epoch 69 Loss 0.4812\n",
            "Epoch 70 Loss 0.2753\n",
            "Epoch 71 Loss 0.3547\n",
            "Epoch 72 Loss 0.3235\n",
            "Epoch 73 Loss 0.3261\n",
            "Epoch 74 Loss 0.3878\n",
            "Epoch 75 Loss 0.3957\n",
            "Epoch 76 Loss 0.3770\n",
            "Epoch 77 Loss 0.3520\n",
            "Epoch 78 Loss 0.4202\n",
            "Epoch 79 Loss 0.3275\n",
            "Epoch 80 Loss 0.3663\n",
            "Epoch 81 Loss 0.3092\n",
            "Epoch 82 Loss 0.3518\n",
            "Epoch 83 Loss 0.3745\n",
            "Epoch 84 Loss 0.2608\n",
            "Epoch 85 Loss 0.3525\n",
            "Epoch 86 Loss 0.3335\n",
            "Epoch 87 Loss 0.3316\n",
            "Epoch 88 Loss 0.2366\n",
            "Epoch 89 Loss 0.3317\n",
            "Epoch 90 Loss 0.2746\n",
            "Epoch 91 Loss 0.3090\n",
            "Epoch 92 Loss 0.2852\n",
            "Epoch 93 Loss 0.2710\n",
            "Epoch 94 Loss 0.2562\n",
            "Epoch 95 Loss 0.2936\n",
            "Epoch 96 Loss 0.2318\n",
            "Epoch 97 Loss 0.2781\n",
            "Epoch 98 Loss 0.2489\n",
            "Epoch 99 Loss 0.2982\n",
            "Epoch 100 Loss 0.2544\n"
          ],
          "name": "stdout"
        }
      ]
    },
    {
      "cell_type": "code",
      "metadata": {
        "id": "rg_6X5u_AqrC",
        "colab_type": "code",
        "colab": {
          "base_uri": "https://localhost:8080/",
          "height": 281
        },
        "outputId": "310232e6-1265-45ab-b4bc-01886f3327ff"
      },
      "source": [
        "import matplotlib.pyplot as plt\n",
        "\n",
        "#loss = [dicts_loss[i] for i in range(len(dicts_loss))]\n",
        "epochs = range(len(losse))\n",
        "\n",
        "\n",
        "plt.figure()\n",
        "\n",
        "plt.plot(epochs, losse, 'b', label='Training Loss')\n",
        "plt.title('Training loss')\n",
        "plt.legend()\n",
        "\n",
        "plt.show()"
      ],
      "execution_count": 85,
      "outputs": [
        {
          "output_type": "display_data",
          "data": {
            "image/png": "[encoded data removed]",
            "text/plain": [
              "<Figure size 432x288 with 1 Axes>"
            ]
          },
          "metadata": {
            "tags": [],
            "needs_background": "light"
          }
        }
      ]
    },
    {
      "cell_type": "code",
      "metadata": {
        "id": "CA5IpppxFjtK",
        "colab_type": "code",
        "colab": {
          "base_uri": "https://localhost:8080/",
          "height": 1000
        },
        "outputId": "f6006741-c9be-4c19-978b-243aa8b5cd25"
      },
      "source": [
        "for  i in range(31,90):\n",
        "  predict(test_source_text=X_test[i+1])"
      ],
      "execution_count": 96,
      "outputs": [
        {
          "output_type": "stream",
          "text": [
            "A dog jumping for a Frisbee in the snow.\n",
            "[[1, 32, 93, 53, 1, 425, 3, 4]]\n",
            "<end>\n",
            "People are conversing at a dining table under a canopy.\n",
            "[[16, 13, 1145, 17, 1, 1436, 90, 201, 1]]\n",
            "woman in the water <end>\n",
            "A girl playing a violin along with a group of people\n",
            "[[1, 28, 33, 1, 704, 131, 10, 1, 38, 9, 16]]\n",
            "<end>\n",
            "A woman within an orchestra is playing a violin.\n",
            "[[1, 11, 1966, 18, 1409, 8, 33, 1]]\n",
            "man . <end>\n",
            "Three men, one holding pipes, another holding a large object above his head, and one resting against the pipe bed on the truck, are looking at the camera.\n",
            "[[43, 41, 40, 67, 40, 1, 52, 424, 323, 25, 5, 41, 679, 226, 4, 1039, 457, 6, 4, 13, 49, 17, 4]]\n",
            "out feet happy dressed tease dressed dressed through dressed through dressed hand pictures sets turn which down sets affection photographed\n",
            "A Ford car is making a right turn as 3 males are walking across the street behind the car.\n",
            "[[1, 3962, 152, 8, 261, 1, 307, 876, 47, 708, 13, 39, 196, 4, 35, 77, 4]]\n",
            "a man and brown woman is attached to a dude wearing shorts sleeps near a wooden floor <end>\n",
            "Three boys in white shirts are walking behind an older model Ford car.\n",
            "[[43, 135, 3, 20, 202, 13, 39, 77, 18, 113, 1544, 3962]]\n",
            "a man is outside . <end>\n",
            "Three boys in white shirts are walking behind an older model Ford car.\n",
            "[[43, 135, 3, 20, 202, 13, 39, 77, 18, 113, 1544, 3962]]\n",
            "a man is outside . <end>\n",
            "Three girls blow out the candles of a cake made of Peeps.\n",
            "[[43, 96, 1577, 74, 4, 1388, 9, 1, 632, 695, 9]]\n",
            "a woman with a shirt is flashing a giant smile <end>\n",
            "Three girls blow out the candles of a cake made of Peeps.\n",
            "[[43, 96, 1577, 74, 4, 1388, 9, 1, 632, 695, 9]]\n",
            "a woman with a shirt is flashing a giant smile <end>\n",
            "A crowd of people looking up at 3 people on the edge of the roof of a building.\n",
            "[[1, 86, 9, 16, 49, 46, 17, 16, 6, 4, 435, 9, 4, 470, 9, 1]]\n",
            "a woman with notepads <end>\n",
            "A woman working long hours.\n",
            "[[1, 11, 122, 140]]\n",
            "the man trailing behind her . <end>\n",
            "Two teenage girls conversing next to lockers.\n",
            "[[12, 756, 96, 1145, 64, 14]]\n",
            "the man is attached to the side . <end>\n",
            "Two children, both wearing tan coats, are embracing one another.\n",
            "[[12, 321, 15, 258, 13, 2029, 41]]\n",
            "<end>\n",
            "2 kids who look related are hanging out with 1 of them looking very emotional and hugging the other.\n",
            "[[211, 155, 175, 6100, 13, 324, 74, 10, 9, 134, 49, 270, 10524, 5, 808, 4]]\n",
            "a man is outside . <end>\n",
            "A large number of people wearing only white and red are walking on a street.\n",
            "[[1, 52, 389, 9, 16, 15, 930, 20, 5, 26, 13, 39, 6, 1]]\n",
            "there are in the stairs . <end>\n",
            "A guy riding a motorcycle near junk cars\n",
            "[[1, 170, 81, 1, 288, 82, 4869, 483]]\n",
            "<end>\n",
            "Women of India performing with blue streamers, in beautiful blue costumes.\n",
            "[[48, 9, 2578, 194, 10, 24, 3, 415, 24]]\n",
            "<end>\n",
            "A professional swimmer spits water out after surfacing while grabbing the hand of someone helping him back to land.\n",
            "[[1, 936, 1303, 7804, 44, 74, 374, 23, 2008, 4, 123, 9, 281, 727, 112, 150, 14]]\n",
            "<end>\n",
            "The man in the black wetsuit is walking out of the water.\n",
            "[[4, 7, 3, 4, 21, 999, 8, 39, 74, 9, 4]]\n",
            "<end>\n",
            "Five girls and two guys are crossing a overpass.\n",
            "[[272, 96, 5, 12, 334, 13, 493, 1]]\n",
            "<end>\n",
            "A woman is painting a mural of a woman's face.\n",
            "[[1, 11, 8, 347, 1, 990, 9, 1]]\n",
            "<end>\n",
            "A couple is eating outside at a table and he is pointing at something.\n",
            "[[1, 179, 8, 205, 56, 17, 1, 90, 5, 162, 8, 526, 17]]\n",
            "the woman are outside . <end>\n",
            "Two women walk down a sidewalk along a busy street in a downtown area.\n",
            "[[12, 48, 144, 37, 1, 89, 131, 1, 245, 35, 3, 1, 1243]]\n",
            "out toy activity . <end>\n",
            "Many people standing outside of a place talking to each other in front of a building that has a sign that says \"HI-POINTE.\"\n",
            "[[190, 16, 29, 56, 9, 1, 648, 124, 14, 174, 58, 3, 34, 9, 1, 71, 88, 99, 1, 185, 88, 617]]\n",
            "large affection turn trees begin very through mouth mouth mouth city <end>\n",
            "The girls walk down the street.\n",
            "[[4, 96, 144, 37, 4]]\n",
            "the man in notepads <end>\n",
            "A man wearing a red uniform and helmet stands on his motorbike.\n",
            "[[1, 7, 15, 1, 26, 210, 5, 208, 79, 6, 25]]\n",
            "there are outside . <end>\n",
            "A man wearing a red uniform and helmet stands on his motorbike.\n",
            "[[1, 7, 15, 1, 26, 210, 5, 208, 79, 6, 25]]\n",
            "there are outside . <end>\n",
            "A man of the cloth puts a black substance on a man's forehead.\n",
            "[[1, 7, 9, 4, 941, 1040, 1, 21, 2844, 6, 1]]\n",
            "<end>\n",
            "A person rolls down a hill riding a wagon as another watches.\n",
            "[[1, 57, 1974, 37, 1, 308, 81, 1, 1126, 47, 67]]\n",
            "<end>\n",
            "a boy holding onto the wall of an old brick house's raised foundation.\n",
            "[[1, 31, 40, 330, 4, 105, 9, 18, 158, 278, 944]]\n",
            "body obeying chase followed adults rowing turn urban instrument . <end>\n",
            "Bruce Springsteen, with one arm outstretched, is singing in the spotlight in a dark concert hall.\n",
            "[[9321, 10, 41, 353, 8, 276, 3, 4, 2492, 3, 1, 130, 486]]\n",
            "out dressed tease dressed tease dressed swimming very through instrument . <end>\n",
            "Six dogs swimming in a river.\n",
            "[[501, 121, 259, 3, 1]]\n",
            "man . <end>\n",
            "A man and woman are taking a picture of themselves while a woman in a scarf walks by them.\n",
            "[[1, 7, 5, 11, 13, 165, 1, 125, 9, 1112, 23, 1, 11, 3, 1, 414, 126, 42]]\n",
            "a man and woman are outside . <end>\n",
            "a group of people dancing together.\n",
            "[[1, 38, 9, 16, 248]]\n",
            "<end>\n",
            "Men wearing blue uniforms sit on a bus.\n",
            "[[30, 15, 24, 326, 156, 6, 1]]\n",
            "the man in notepads <end>\n",
            "Two men climbing on a wooden scaffold.\n",
            "[[12, 30, 237, 6, 1, 215]]\n",
            "<end>\n",
            "A young boy wearing a red shirt and jeans stands in the middle of a field and throws a toy plane in the air.\n",
            "[[1, 22, 31, 15, 1, 26, 19, 5, 120, 79, 3, 4, 183, 9, 1, 83, 5, 857, 1, 228, 1094, 3, 4]]\n",
            "<end>\n",
            "Six or seven people are standing on a pier with a table and a pair of glasses in the foreground.\n",
            "[[501, 197, 1014, 16, 13, 29, 6, 1, 822, 10, 1, 90, 5, 1, 897, 9, 153, 3, 4]]\n",
            "a man is wearing a shirt . <end>\n",
            "A person in a red shirt and black pants hunched over.\n",
            "[[1, 57, 3, 1, 26, 19, 5, 21, 111, 2592]]\n",
            "arms to kick <end>\n",
            "This child is on the library steps.\n",
            "[[242, 50, 8, 6, 4, 1412]]\n",
            "the man is outside . <end>\n",
            "The tattooed basketball player is about to dunk the ball.\n",
            "[[4, 1439, 253, 117, 8, 238, 14, 2977, 4]]\n",
            "<end>\n",
            "a boy in a red hooded top is smiling whilst looking away from his reflection.\n",
            "[[1, 31, 3, 1, 26, 914, 91, 8, 133, 945, 49, 328, 61, 25]]\n",
            "out dressed tease dressed dressed tease dressed hand dressed hand making through through through through breaker old hand pictures arms\n",
            "A man wearing a gray ball cap walks next to a redheaded woman wearing a long-sleeved blue jean shirt.\n",
            "[[1, 7, 15, 1, 103, 65, 227, 126, 64, 14, 1, 1143, 11, 15, 1, 24, 846]]\n",
            "a man and woman are outside . <end>\n",
            "An old man in a baseball hat and an old woman in a jean jacket are standing outside, but are covered mostly in shadow.\n",
            "[[18, 158, 7, 3, 1, 173, 60, 5, 18, 158, 11, 3, 1, 846, 73, 13, 29, 921, 13, 243, 1393, 3]]\n",
            "body add activity . <end>\n",
            "A newlywed couple laughing and talking amongst themselves.\n",
            "[[1, 3415, 179, 403, 5, 124, 1549]]\n",
            "body add . <end>\n",
            "A newlywed couple laughing and talking amongst themselves.\n",
            "[[1, 3415, 179, 403, 5, 124, 1549]]\n",
            "body add . <end>\n",
            "A black man in a long sleeves white collared shirt and a tie is walking to work in a big city.\n",
            "[[1, 21, 7, 3, 1, 140, 2049, 20, 1538, 19, 5, 1, 565, 8, 39, 14, 240, 3, 1, 279]]\n",
            "a man is outside . <end>\n",
            "A black man in a long sleeves white collared shirt and a tie is walking to work in a big city.\n",
            "[[1, 21, 7, 3, 1, 140, 2049, 20, 1538, 19, 5, 1, 565, 8, 39, 14, 240, 3, 1, 279]]\n",
            "a man is outside . <end>\n",
            "A group of adults stands in the bathroom looking down a small child in the bath.\n",
            "[[1, 38, 9, 342, 79, 3, 4, 1547, 49, 37, 1, 66, 50, 3, 4]]\n",
            "<end>\n",
            "A goofy looking woman is singing on stage.\n",
            "[[1, 3413, 49, 11, 8, 276, 6]]\n",
            "the man trailing behind her sleeps near a wooden floor <end>\n",
            "The girl wearing a brown jacket whilst walking in snow.\n",
            "[[4, 28, 15, 1, 55, 73, 945, 39, 3]]\n",
            "<end>\n",
            "A man, woman, and child get their picture taken in front of the mountains.\n",
            "[[1, 5, 50, 455, 63, 125, 844, 3, 34, 9, 4]]\n",
            "<end>\n",
            "A man, woman, and child get their picture taken in front of the mountains.\n",
            "[[1, 5, 50, 455, 63, 125, 844, 3, 34, 9, 4]]\n",
            "<end>\n",
            "people are standing near water with a boat heading their direction\n",
            "[[16, 13, 29, 82, 44, 10, 1, 182, 2207, 63, 902]]\n",
            "a woman with a blue shirt behind a dude wearing shorts sleeps near a wooden floor <end>\n",
            "Four adults eat while sitting on a tile floor.\n",
            "[[110, 342, 838, 23, 27, 6, 1, 1473]]\n",
            "<end>\n",
            "A dog standing near snow looking at water.\n",
            "[[1, 32, 29, 82, 97, 49, 17]]\n",
            "<end>\n",
            "An older man leans against a pedestal outside of an ornate building.\n",
            "[[18, 113, 7, 553, 226, 1, 6096, 56, 9, 18, 1558]]\n",
            "man . <end>\n",
            "A person in orange clothing rests above a metro entrance.\n",
            "[[1, 57, 3, 76, 231, 1339, 323, 1, 2076]]\n",
            "out dressed tease dressed tease dressed dressed swimming instrument very through mouth mouth mouth woman . <end>\n"
          ],
          "name": "stdout"
        }
      ]
    },
    {
      "cell_type": "code",
      "metadata": {
        "id": "VItywKimKNGn",
        "colab_type": "code",
        "colab": {}
      },
      "source": [
        "import warnings\n",
        "warnings.filterwarnings('ignore')\n",
        "import nltk.translate.bleu_score as bleu"
      ],
      "execution_count": 97,
      "outputs": []
    },
    {
      "cell_type": "code",
      "metadata": {
        "id": "XmO6JS6PKScO",
        "colab_type": "code",
        "colab": {
          "base_uri": "https://localhost:8080/",
          "height": 90
        },
        "outputId": "72af0387-72bb-4087-850d-c6b0de3ad9cd"
      },
      "source": [
        "refrences = [text.split() for text in Y_test]\n",
        "pred_text = predict(test_source_text=X_test[20])\n",
        "translation = 'black swimming .'.split()\n",
        "\n",
        "print('BLEU score: {}'.format(bleu.sentence_bleu(refrences, translation)))"
      ],
      "execution_count": 103,
      "outputs": [
        {
          "output_type": "stream",
          "text": [
            "A man standing in front of a building on the phone as two men to the side pain on the side.\n",
            "[[1, 7, 29, 3, 34, 9, 1, 71, 6, 4, 380, 47, 12, 30, 14, 4, 138, 3191, 6, 4]]\n",
            "<end>\n",
            "BLEU score: 0.9036020036098448\n"
          ],
          "name": "stdout"
        }
      ]
    },
    {
      "cell_type": "code",
      "metadata": {
        "id": "pfu2O_N8KqTm",
        "colab_type": "code",
        "colab": {}
      },
      "source": [
        ""
      ],
      "execution_count": 100,
      "outputs": []
    },
    {
      "cell_type": "markdown",
      "metadata": {
        "id": "3VOLcnY87c8I",
        "colab_type": "text"
      },
      "source": [
        "# with attention"
      ]
    },
    {
      "cell_type": "code",
      "metadata": {
        "id": "OALJtdU97c8J",
        "colab_type": "code",
        "colab": {}
      },
      "source": [
        "class LuongAttention(tf.keras.Model):\n",
        "    def __init__(self, rnn_size):\n",
        "        super(LuongAttention, self).__init__()\n",
        "        self.wa = tf.keras.layers.Dense(rnn_size)\n",
        "        \n",
        "    def call(self, decoder_output, encoder_output):\n",
        "        # Dot score: h_t (dot) Wa (dot) h_s\n",
        "        # encoder_output shape: (batch_size, max_len, rnn_size)\n",
        "        # decoder_output shape: (batch_size, 1, rnn_size)\n",
        "        # score will have shape: (batch_size, 1, max_len)\n",
        "        score = tf.matmul(decoder_output, self.wa(encoder_output), transpose_b=True)\n",
        "        # alignment vector a_t\n",
        "        alignment = tf.nn.softmax(score, axis=2)\n",
        "       # context vector c_t is the average sum of encoder output\n",
        "        context = tf.matmul(alignment, encoder_output)\n",
        "\n",
        "        return context, alignment"
      ],
      "execution_count": 47,
      "outputs": []
    },
    {
      "cell_type": "code",
      "metadata": {
        "id": "0pJjA59L7c8N",
        "colab_type": "code",
        "colab": {}
      },
      "source": [
        "class Decoder(tf.keras.Model):\n",
        "    def __init__(self, vocab_size, embedding_size, rnn_size):\n",
        "        super(Decoder, self).__init__()\n",
        "        \n",
        "        # Create a LuongAttention object\n",
        "        self.attention = LuongAttention(rnn_size)\n",
        "\n",
        "        self.rnn_size = rnn_size\n",
        "        self.embedding = tf.keras.layers.Embedding(vocab_size, embedding_size)\n",
        "        self.lstm = tf.keras.layers.LSTM(rnn_size, return_sequences=True, return_state=True)\n",
        "        \n",
        "        self.wc = tf.keras.layers.Dense(rnn_size, activation='tanh')\n",
        "        self.ws = tf.keras.layers.Dense(vocab_size)\n",
        "    def call(self, sequence, state, encoder_output):\n",
        "        # Remember that the input to the decoder\n",
        "        # is now a batch of one-word sequences,\n",
        "        # which means that its shape is (batch_size, 1)\n",
        "        embed = self.embedding(sequence)\n",
        "        \n",
        "        # Therefore, the lstm_out has shape (batch_size, 1, rnn_size)\n",
        "        lstm_out, state_h, state_c = self.lstm(embed, initial_state=state)\n",
        "        # Use self.attention to compute the context and alignment vectors\n",
        "        # context vector's shape: (batch_size, 1, rnn_size)\n",
        "        # alignment vector's shape: (batch_size, 1, source_length)\n",
        "        context, alignment = self.attention(lstm_out, encoder_output)\n",
        "\n",
        "        # Combine the context vector and the LSTM output\n",
        "        # Before combined, both have shape of (batch_size, 1, rnn_size),\n",
        "        # so let's squeeze the axis 1 first\n",
        "        # After combined, it will have shape of (batch_size, 2 * rnn_size)\n",
        "        lstm_out = tf.concat([tf.squeeze(context, 1), tf.squeeze(lstm_out, 1)], 1)\n",
        "        \n",
        "        # lstm_out now has shape (batch_size, rnn_size)\n",
        "        lstm_out = self.wc(lstm_out)\n",
        "        \n",
        "        # Finally, it is converted back to vocabulary space: (batch_size, vocab_size)\n",
        "        logits = self.ws(lstm_out)\n",
        "\n",
        "        return logits, state_h, state_c, alignment"
      ],
      "execution_count": 48,
      "outputs": []
    },
    {
      "cell_type": "code",
      "metadata": {
        "id": "KDqNjIKmTG_b",
        "colab_type": "code",
        "colab": {}
      },
      "source": [
        "def loss_func(targets, logits):\n",
        "    crossentropy = tf.keras.losses.SparseCategoricalCrossentropy(\n",
        "        from_logits=True)\n",
        "    mask = tf.math.logical_not(tf.math.equal(targets, 0))\n",
        "    mask = tf.cast(mask, dtype=tf.int64)\n",
        "    loss = crossentropy(targets, logits, sample_weight=mask)\n",
        "\n",
        "    return loss"
      ],
      "execution_count": 55,
      "outputs": []
    },
    {
      "cell_type": "code",
      "metadata": {
        "id": "aVoF4SprRUuO",
        "colab_type": "code",
        "colab": {}
      },
      "source": [
        "optimizer = tf.keras.optimizers.Adam()"
      ],
      "execution_count": 49,
      "outputs": []
    },
    {
      "cell_type": "code",
      "metadata": {
        "id": "6-zzhwX_Rij1",
        "colab_type": "code",
        "colab": {}
      },
      "source": [
        "encoder = Encoder(vocab_X_size, EMBEDDING_SIZE, LSTM_SIZE)\n",
        "attention = LuongAttention(vocab_X_size)\n",
        "decoder = Decoder(vocab_Y_size, EMBEDDING_SIZE, LSTM_SIZE)"
      ],
      "execution_count": 59,
      "outputs": []
    },
    {
      "cell_type": "code",
      "metadata": {
        "id": "rc2sQh4m7c8b",
        "colab_type": "code",
        "colab": {}
      },
      "source": [
        "@tf.function\n",
        "def train_step(source_seq, target_seq_in, target_seq_out, en_initial_states):\n",
        "    loss = 0\n",
        "    with tf.GradientTape() as tape:\n",
        "        en_outputs = encoder(source_seq, en_initial_states)\n",
        "        en_states = en_outputs[1:]\n",
        "        de_state_h, de_state_c = en_states\n",
        "        \n",
        "        # We need to create a loop to iterate through the target sequences\n",
        "        for i in range(target_seq_out.shape[1]):\n",
        "            # Input to the decoder must have shape of (batch_size, length)\n",
        "            # so we need to expand one dimension\n",
        "            decoder_in = tf.expand_dims(target_seq_in[:, i], 1)\n",
        "            logit, de_state_h, de_state_c, _ = decoder(decoder_in, (de_state_h, de_state_c), en_outputs[0])\n",
        "            \n",
        "            # The loss is now accumulated through the whole batch\n",
        "            loss += loss_func(target_seq_out[:, i], logit)\n",
        "\n",
        "    variables = encoder.trainable_variables + decoder.trainable_variables\n",
        "    gradients = tape.gradient(loss, variables)\n",
        "    optimizer.apply_gradients(zip(gradients, variables))\n",
        "\n",
        "    return loss / target_seq_out.shape[1]"
      ],
      "execution_count": 60,
      "outputs": []
    },
    {
      "cell_type": "code",
      "metadata": {
        "id": "zcc9lzBm7c8o",
        "colab_type": "code",
        "colab": {}
      },
      "source": [
        ""
      ],
      "execution_count": 61,
      "outputs": []
    },
    {
      "cell_type": "code",
      "metadata": {
        "id": "MNbIAEUvcSWw",
        "colab_type": "code",
        "colab": {}
      },
      "source": [
        ""
      ],
      "execution_count": null,
      "outputs": []
    },
    {
      "cell_type": "code",
      "metadata": {
        "id": "4gM7zXg2PAKG",
        "colab_type": "code",
        "colab": {}
      },
      "source": [
        "checkpoint_dir = './training_checkpoints'\n",
        "checkpoint_prefix = os.path.join(checkpoint_dir, \"ckpt\")\n",
        "checkpoint = tf.train.Checkpoint(optimizer=optimizer,\n",
        "                                 encoder=encoder,\n",
        "                                 decoder=decoder)"
      ],
      "execution_count": 62,
      "outputs": []
    },
    {
      "cell_type": "code",
      "metadata": {
        "id": "nvqFcXaR7c8u",
        "colab_type": "code",
        "colab": {
          "base_uri": "https://localhost:8080/",
          "height": 1000
        },
        "outputId": "5835fa5a-b3f2-4401-feae-1837989bf881"
      },
      "source": [
        "NUM_EPOCHS = 100\n",
        "BATCH_SIZE = 5\n",
        "losse = []\n",
        "for e in range(NUM_EPOCHS):\n",
        "    en_initial_states = encoder.init_states(BATCH_SIZE)\n",
        "\n",
        "    for batch, (source_seq, target_seq_in, target_seq_out) in enumerate(dataset.take(-1)):\n",
        "        loss = train_step(source_seq, target_seq_in, target_seq_out, en_initial_states)\n",
        "    if (e + 1) % 50 == 0:\n",
        "      checkpoint.save(file_prefix = checkpoint_prefix)\n",
        "    loss_epoch = loss.numpy()\n",
        "    print('Epoch {} Loss {:.4f}'.format(e + 1, loss_epoch))\n",
        "    losse.append(loss_epoch)\n",
        "    "
      ],
      "execution_count": 63,
      "outputs": [
        {
          "output_type": "stream",
          "text": [
            "Epoch 1 Loss 0.7341\n",
            "Epoch 2 Loss 0.7999\n",
            "Epoch 3 Loss 0.8243\n",
            "Epoch 4 Loss 1.0515\n",
            "Epoch 5 Loss 1.1128\n",
            "Epoch 6 Loss 0.7211\n",
            "Epoch 7 Loss 0.5716\n",
            "Epoch 8 Loss 0.5761\n",
            "Epoch 9 Loss 0.7380\n",
            "Epoch 10 Loss 0.8938\n",
            "Epoch 11 Loss 0.6679\n",
            "Epoch 12 Loss 0.5595\n",
            "Epoch 13 Loss 0.5686\n",
            "Epoch 14 Loss 0.7109\n",
            "Epoch 15 Loss 0.6687\n",
            "Epoch 16 Loss 0.6270\n",
            "Epoch 17 Loss 0.4933\n",
            "Epoch 18 Loss 0.4794\n",
            "Epoch 19 Loss 0.4772\n",
            "Epoch 20 Loss 0.4179\n",
            "Epoch 21 Loss 0.6074\n",
            "Epoch 22 Loss 0.5753\n",
            "Epoch 23 Loss 0.6571\n",
            "Epoch 24 Loss 0.7314\n",
            "Epoch 25 Loss 0.4571\n",
            "Epoch 26 Loss 0.6120\n",
            "Epoch 27 Loss 0.5168\n",
            "Epoch 28 Loss 0.4879\n",
            "Epoch 29 Loss 0.3628\n",
            "Epoch 30 Loss 0.4856\n",
            "Epoch 31 Loss 0.5497\n",
            "Epoch 32 Loss 0.5306\n",
            "Epoch 33 Loss 0.5681\n",
            "Epoch 34 Loss 0.3832\n",
            "Epoch 35 Loss 0.3927\n",
            "Epoch 36 Loss 0.4717\n",
            "Epoch 37 Loss 0.4353\n",
            "Epoch 38 Loss 0.4307\n",
            "Epoch 39 Loss 0.4450\n",
            "Epoch 40 Loss 0.5972\n",
            "Epoch 41 Loss 0.4945\n",
            "Epoch 42 Loss 0.3788\n",
            "Epoch 43 Loss 0.4013\n",
            "Epoch 44 Loss 0.3657\n",
            "Epoch 45 Loss 0.3793\n",
            "Epoch 46 Loss 0.6439\n",
            "Epoch 47 Loss 0.2866\n",
            "Epoch 48 Loss 0.3977\n",
            "Epoch 49 Loss 0.4184\n",
            "Epoch 50 Loss 0.3522\n",
            "Epoch 51 Loss 0.3640\n",
            "Epoch 52 Loss 0.3474\n",
            "Epoch 53 Loss 0.4687\n",
            "Epoch 54 Loss 0.3719\n",
            "Epoch 55 Loss 0.3546\n",
            "Epoch 56 Loss 0.3705\n",
            "Epoch 57 Loss 0.4046\n",
            "Epoch 58 Loss 0.2930\n",
            "Epoch 59 Loss 0.3854\n",
            "Epoch 60 Loss 0.2829\n",
            "Epoch 61 Loss 0.2895\n",
            "Epoch 62 Loss 0.3019\n",
            "Epoch 63 Loss 0.2882\n",
            "Epoch 64 Loss 0.3322\n",
            "Epoch 65 Loss 0.3258\n",
            "Epoch 66 Loss 0.3245\n",
            "Epoch 67 Loss 0.2955\n",
            "Epoch 68 Loss 0.3438\n",
            "Epoch 69 Loss 0.2567\n",
            "Epoch 70 Loss 0.2008\n",
            "Epoch 71 Loss 0.2294\n",
            "Epoch 72 Loss 0.2451\n",
            "Epoch 73 Loss 0.2859\n",
            "Epoch 74 Loss 0.2555\n",
            "Epoch 75 Loss 0.2270\n",
            "Epoch 76 Loss 0.2806\n",
            "Epoch 77 Loss 0.2234\n",
            "Epoch 78 Loss 0.2590\n",
            "Epoch 79 Loss 0.2284\n",
            "Epoch 80 Loss 0.2620\n",
            "Epoch 81 Loss 0.2722\n",
            "Epoch 82 Loss 0.2242\n",
            "Epoch 83 Loss 0.2086\n",
            "Epoch 84 Loss 0.2759\n",
            "Epoch 85 Loss 0.2424\n",
            "Epoch 86 Loss 0.2081\n",
            "Epoch 87 Loss 0.2341\n",
            "Epoch 88 Loss 0.1596\n",
            "Epoch 89 Loss 0.1982\n",
            "Epoch 90 Loss 0.1680\n",
            "Epoch 91 Loss 0.2330\n",
            "Epoch 92 Loss 0.1782\n",
            "Epoch 93 Loss 0.2038\n",
            "Epoch 94 Loss 0.1881\n",
            "Epoch 95 Loss 0.1681\n",
            "Epoch 96 Loss 0.1479\n",
            "Epoch 97 Loss 0.1579\n",
            "Epoch 98 Loss 0.1590\n",
            "Epoch 99 Loss 0.1735\n",
            "Epoch 100 Loss 0.2073\n"
          ],
          "name": "stdout"
        }
      ]
    },
    {
      "cell_type": "code",
      "metadata": {
        "id": "k_c6kjI8PUbd",
        "colab_type": "code",
        "colab": {
          "base_uri": "https://localhost:8080/",
          "height": 281
        },
        "outputId": "9a996358-b27f-4696-a3ef-02fc2d0492a2"
      },
      "source": [
        "import matplotlib.pyplot as plt\n",
        "\n",
        "#loss = [dicts_loss[i] for i in range(len(dicts_loss))]\n",
        "epochs = range(len(losse))\n",
        "\n",
        "\n",
        "plt.figure()\n",
        "\n",
        "plt.plot(epochs, losse, 'b', label='Training Loss')\n",
        "plt.title('Training loss')\n",
        "plt.legend()\n",
        "\n",
        "plt.show()"
      ],
      "execution_count": 64,
      "outputs": [
        {
          "output_type": "display_data",
          "data": {
            "image/png": "[encoded data removed]",
            "text/plain": [
              "<Figure size 432x288 with 1 Axes>"
            ]
          },
          "metadata": {
            "tags": [],
            "needs_background": "light"
          }
        }
      ]
    },
    {
      "cell_type": "code",
      "metadata": {
        "id": "YoFqJrWIcsiP",
        "colab_type": "code",
        "colab": {}
      },
      "source": [
        "def predict(test_source_text=None):\n",
        "    #if test_source_text is None:\n",
        "        #test_source_text = raw_data_en[np.random.choice(len(raw_data_en))]\n",
        "    #attention_plot = np.zeros((max_length_Y_in, max_length_X))\n",
        "\n",
        "    print(test_source_text)\n",
        "    test_source_seq = tokenizer_X_train.texts_to_sequences([test_source_text])\n",
        "    print(test_source_seq)\n",
        "\n",
        "    initial_states = encoder.init_states(1)\n",
        "    en_outputs = encoder(tf.constant(test_source_seq), initial_states)\n",
        "\n",
        "    de_input = tf.constant([[tokenizer_Y_train.word_index['<start>']]])\n",
        "    de_state_h, de_state_c = en_outputs[1:]\n",
        "    out_words = []\n",
        "    alignments = []\n",
        "\n",
        "    while True:\n",
        "        de_output, de_state_h, de_state_c, alignment = decoder(\n",
        "            de_input, (de_state_h, de_state_c), en_outputs[0])\n",
        "        de_input = tf.expand_dims(tf.argmax(de_output, -1), 0)\n",
        "        out_words.append(tokenizer_Y_train.index_word[de_input.numpy()[0][0]])\n",
        "\n",
        "\n",
        "\n",
        "        alignments.append(alignment.numpy())\n",
        "\n",
        "        if out_words[-1] == '<end>' or len(out_words) >= 20:\n",
        "            break\n",
        "\n",
        "    print(' '.join(out_words))\n",
        "    return np.array(alignments), test_source_text.split(' '), out_words"
      ],
      "execution_count": 75,
      "outputs": []
    },
    {
      "cell_type": "code",
      "metadata": {
        "id": "GYdlbBfudrhW",
        "colab_type": "code",
        "colab": {}
      },
      "source": [
        "test_df = test_df[test_df[\"sentence2\"].notnull()]\n",
        "X_test = np.array(test_df[\"sentence1\"])\n",
        "Y_test = np.array(test_df[\"sentence2\"])"
      ],
      "execution_count": 76,
      "outputs": []
    },
    {
      "cell_type": "code",
      "metadata": {
        "id": "-MxHPhuXdcq6",
        "colab_type": "code",
        "colab": {}
      },
      "source": [
        "import warnings\n",
        "warnings.filterwarnings('ignore')\n",
        "import nltk.translate.bleu_score as bleu"
      ],
      "execution_count": 67,
      "outputs": []
    },
    {
      "cell_type": "code",
      "metadata": {
        "id": "KUyFvQUhddZW",
        "colab_type": "code",
        "colab": {
          "base_uri": "https://localhost:8080/",
          "height": 90
        },
        "outputId": "2b02e9ed-6c89-4374-e703-1cb277e98422"
      },
      "source": [
        "refrences = [text.split() for text in Y_test]\n",
        "_,_,predict = predict(test_source_text=X_test[3])\n",
        "translation = 'a man is outdoors .'.split()\n",
        "\n",
        "print('BLEU score: {}'.format(bleu.sentence_bleu(refrences, translation)))"
      ],
      "execution_count": 79,
      "outputs": [
        {
          "output_type": "stream",
          "text": [
            "A statue at a museum that no seems to be looking at.\n",
            "[[1, 498, 17, 1, 1138, 88, 500, 862, 14, 189, 49]]\n",
            "a man in stage a man outside . <end>\n",
            "BLEU score: 0.7952707287670506\n"
          ],
          "name": "stdout"
        }
      ]
    },
    {
      "cell_type": "code",
      "metadata": {
        "id": "mSyDG79Lefup",
        "colab_type": "code",
        "colab": {
          "base_uri": "https://localhost:8080/",
          "height": 1000
        },
        "outputId": "ad120040-aba2-4819-be6f-80422482c0e0"
      },
      "source": [
        "predict(test_source_text=X_test[3])"
      ],
      "execution_count": 78,
      "outputs": [
        {
          "output_type": "stream",
          "text": [
            "A statue at a museum that no seems to be looking at.\n",
            "[[1, 498, 17, 1, 1138, 88, 500, 862, 14, 189, 49]]\n",
            "a man in stage a man outside . <end>\n"
          ],
          "name": "stdout"
        },
        {
          "output_type": "execute_result",
          "data": {
            "text/plain": [
              "(array([[[[5.14401458e-02, 2.16315955e-01, 9.16597471e-02,\n",
              "           1.14044964e-01, 1.17540464e-01, 7.83840045e-02,\n",
              "           7.86049739e-02, 7.37819150e-02, 8.17610249e-02,\n",
              "           3.02482136e-02, 6.62185624e-02]]],\n",
              " \n",
              " \n",
              "        [[[2.03086257e-01, 1.83372032e-02, 9.04381126e-02,\n",
              "           7.82199129e-02, 6.72446787e-02, 1.02281682e-01,\n",
              "           9.23328698e-02, 7.79198408e-02, 6.99840412e-02,\n",
              "           1.20446876e-01, 7.97084644e-02]]],\n",
              " \n",
              " \n",
              "        [[[1.80384144e-01, 7.05359317e-03, 7.31026232e-02,\n",
              "           6.04114309e-02, 4.80495952e-02, 8.82227942e-02,\n",
              "           8.26255754e-02, 7.50959888e-02, 6.72862902e-02,\n",
              "           2.17105612e-01, 1.00662380e-01]]],\n",
              " \n",
              " \n",
              "        [[[2.37285465e-01, 7.27767646e-02, 1.73619017e-01,\n",
              "           1.06141038e-01, 5.18108755e-02, 6.24304079e-02,\n",
              "           4.11039777e-02, 3.48170847e-02, 5.12464643e-02,\n",
              "           2.93957163e-02, 1.39373139e-01]]],\n",
              " \n",
              " \n",
              "        [[[3.63292933e-01, 4.10160199e-02, 3.11515301e-01,\n",
              "           1.85708180e-01, 3.47548537e-02, 1.51235871e-02,\n",
              "           6.21912582e-03, 2.84717116e-03, 4.47263382e-03,\n",
              "           3.69043835e-03, 3.13597620e-02]]],\n",
              " \n",
              " \n",
              "        [[[6.45753324e-01, 2.68595107e-03, 5.79054616e-02,\n",
              "           3.67809497e-02, 1.45491315e-02, 2.46187709e-02,\n",
              "           1.83816999e-02, 1.23907859e-02, 1.25985080e-02,\n",
              "           1.05418004e-01, 6.89175352e-02]]],\n",
              " \n",
              " \n",
              "        [[[4.46302205e-01, 4.56124078e-04, 6.52092844e-02,\n",
              "           3.92867215e-02, 1.66809410e-02, 4.23997678e-02,\n",
              "           3.06094866e-02, 2.13027876e-02, 2.00112388e-02,\n",
              "           2.28996217e-01, 8.87451768e-02]]],\n",
              " \n",
              " \n",
              "        [[[5.74751258e-01, 2.70263990e-03, 2.73848444e-01,\n",
              "           9.85433385e-02, 6.64389180e-03, 4.20767162e-03,\n",
              "           1.04917726e-03, 4.25333768e-04, 1.36714196e-03,\n",
              "           7.35274283e-04, 3.57258692e-02]]],\n",
              " \n",
              " \n",
              "        [[[4.11725074e-01, 7.85427634e-03, 3.41463357e-01,\n",
              "           2.09286332e-01, 1.11724650e-02, 3.08286352e-03,\n",
              "           6.44741056e-04, 1.80198229e-04, 6.78334793e-04,\n",
              "           1.09994769e-04, 1.38023579e-02]]]], dtype=float32),\n",
              " ['A',\n",
              "  'statue',\n",
              "  'at',\n",
              "  'a',\n",
              "  'museum',\n",
              "  'that',\n",
              "  'no',\n",
              "  'seems',\n",
              "  'to',\n",
              "  'be',\n",
              "  'looking',\n",
              "  'at.'],\n",
              " ['a', 'man', 'in', 'stage', 'a', 'man', 'outside', '.', '<end>'])"
            ]
          },
          "metadata": {
            "tags": []
          },
          "execution_count": 78
        }
      ]
    },
    {
      "cell_type": "code",
      "metadata": {
        "id": "LBvA2nhxegRa",
        "colab_type": "code",
        "colab": {}
      },
      "source": [
        ""
      ],
      "execution_count": null,
      "outputs": []
    }
  ]
}